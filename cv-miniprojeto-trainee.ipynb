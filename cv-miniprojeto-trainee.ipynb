{
 "cells": [
  {
   "cell_type": "markdown",
   "metadata": {},
   "source": [
    "# Projeto de Trainee - Visão Computacional\n",
    "Por Camilla de Oliveira Fonseca\n",
    "\n",
    "<img src=\"https://www.politecnicos.com.br/img/075.jpg\" alt=\"Grupo Turing\" height=\"200\" width=\"200\">\n",
    "\n",
    "Esse miniprojeto é na verdade uma missão secreta Jedi cujo objetivo é criar um sistema de segurança que classifica se uma imagem contém o Mestre Yoda, o Lord Sith Darth Vader ou algum Stormtrooper. Para isso está separado em 2 partes de 4 tarefas cada (Manipulação e Classificação."
   ]
  },
  {
   "cell_type": "markdown",
   "metadata": {},
   "source": [
    "# Tarefas de Manipulação"
   ]
  },
  {
   "cell_type": "markdown",
   "metadata": {},
   "source": [
    "## Tarefa 1\n",
    "Criar uma função que recebe o endereço de uma imagem e retorna sua visualização."
   ]
  },
  {
   "cell_type": "code",
   "execution_count": null,
   "metadata": {},
   "outputs": [],
   "source": []
  }
 ],
 "metadata": {
  "kernelspec": {
   "display_name": "Python 3",
   "language": "python",
   "name": "python3"
  },
  "language_info": {
   "codemirror_mode": {
    "name": "ipython",
    "version": 3
   },
   "file_extension": ".py",
   "mimetype": "text/x-python",
   "name": "python",
   "nbconvert_exporter": "python",
   "pygments_lexer": "ipython3",
   "version": "3.7.7"
  }
 },
 "nbformat": 4,
 "nbformat_minor": 4
}
